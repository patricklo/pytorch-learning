{
 "cells": [
  {
   "cell_type": "markdown",
   "id": "f547ef7f-3405-4367-8f01-f565c468edc5",
   "metadata": {},
   "source": [
    "构建卷积神经网络 RNN\n",
    "- RNN只适用的图像\n",
    "- 卷积网络的输入和层与传统神经网络有些区别，需重新设计，训练模块基本一致\n",
    "- 输入大小： batch_size*1(channel)*28(height)*28(weight)\n",
    "-  传统神经网络用的是Full connection全连接输入一般为： batch_size * 784，然后走全连接(FC)去训练模型和预测\n",
    "   CNN卷积神经网络是适用图像 batch_size*1(channel)*28(height)*28(weight)，走卷积（conv)去训练模型和预测"
   ]
  },
  {
   "cell_type": "code",
   "execution_count": 9,
   "id": "b131b74f-a1aa-4841-bf29-920e92359494",
   "metadata": {},
   "outputs": [],
   "source": [
    "import torch\n",
    "import torch.nn as nn\n",
    "import torch.optim as optim\n",
    "import torch.nn.functional as F\n",
    "import torchvision\n",
    "from torchvision import datasets,transforms\n",
    "import matplotlib.pyplot as plt\n",
    "import numpy as np\n",
    "%matplotlib inline"
   ]
  },
  {
   "cell_type": "code",
   "execution_count": null,
   "id": "30b93cc6-b87d-43ce-bd5d-f67b4f2447bb",
   "metadata": {},
   "outputs": [],
   "source": [
    "'''读取数据\n",
    "- 分别构建训练集和测试集（验证集）\n",
    "- DataLoader来迭代取数据\n",
    "'''\n",
    "\n",
    "#定义参数\n",
    "input_size=28 #输入图像的尺寸 28*28\n",
    "num_classes = 10 #标签的总类数\n",
    "num_epochs = 3 #训练的总循环周期\n",
    "batch_size=64 #一个批次的大小， 64张图片\n",
    "#训练集\n",
    "train_dataset = datasets.MNIST(root='./data', train=True, transform = transforms.ToTensor(), download=True)\n",
    "#测试集\n",
    "test_dataset = datasets.MNIST(root='./data', train=False, transform = transforms.ToTensor())\n",
    "#构建batch数据\n",
    "train_loader = torch.utils.data.DataLoader(dataset=train_dataset, batch_size = batch_size, shuffle=True)\n",
    "test_loader = torch.utils.data.DataLoader(dataset=test_dataset, batch_size=batch_size, shuffle=True)\n"
   ]
  },
  {
   "cell_type": "code",
   "execution_count": null,
   "id": "929ff904-f2ff-410a-9c07-02e747bd814d",
   "metadata": {},
   "outputs": [],
   "source": [
    "'''卷积网络模块的构建\n",
    "- 一般卷积层/relu层/池化层可以定成一个套餐\n",
    "- 注意卷积最后结果还是一个特征图，需要把图转换成向量才能做分类或者回归任务\n",
    "'''\n",
    "class CNN(nn.Module):\n",
    "    def __init__(self):\n",
    "        super(CNN, self).__init__()\n",
    "        self.conv1 = nn.Sequential(   ## <-----输入大小(1,28,28)\n",
    "                                    nn.Conv2d(\n",
    "                                            in_channels=1,  #灰度图\n",
    "                                            out_channels=16,  #需要输出多少个特征图\n",
    "                                            kernel_size=5, #卷积核大小\n",
    "                                            stride=1,  #步长\n",
    "                                            paddinig=2), #\n",
    "                                   nn.ReLU(),\n",
    "                                   nn.MaxPool2d(kernel_size=2),\n",
    "                                  )\n",
    "        self.conv2 = nn.Sequential(nn.Conv2d(16,32,5,1,2),\n",
    "                                   nn.ReLU(),\n",
    "                                   nn.Conv2d(32,32,5,1,2),\n",
    "                                   nn.ReLU(),\n",
    "                                   nn.MaxPool2d(kernel_size=2),\n",
    "                                  )"
   ]
  },
  {
   "cell_type": "code",
   "execution_count": null,
   "id": "8efb1499-f579-4d99-9dc7-e0d5933e6746",
   "metadata": {},
   "outputs": [],
   "source": []
  },
  {
   "cell_type": "code",
   "execution_count": null,
   "id": "c8b2372b-d912-4512-b60a-e5133efdaee6",
   "metadata": {},
   "outputs": [],
   "source": []
  },
  {
   "cell_type": "code",
   "execution_count": null,
   "id": "fd5fe70e-3d4a-4783-9111-9040eb068ff5",
   "metadata": {},
   "outputs": [],
   "source": []
  }
 ],
 "metadata": {
  "kernelspec": {
   "display_name": "Python 3 (ipykernel)",
   "language": "python",
   "name": "python3"
  },
  "language_info": {
   "codemirror_mode": {
    "name": "ipython",
    "version": 3
   },
   "file_extension": ".py",
   "mimetype": "text/x-python",
   "name": "python",
   "nbconvert_exporter": "python",
   "pygments_lexer": "ipython3",
   "version": "3.9.19"
  }
 },
 "nbformat": 4,
 "nbformat_minor": 5
}
