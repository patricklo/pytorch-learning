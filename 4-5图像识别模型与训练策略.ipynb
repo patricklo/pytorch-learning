{
 "cells": [
  {
   "cell_type": "code",
   "execution_count": null,
   "id": "ad88f1bb-073f-40f0-ab8b-7625790099e2",
   "metadata": {},
   "outputs": [],
   "source": [
    "'''\n",
    "基于经典网络架构训练图像分类模型\n",
    "\n",
    "1。数据预处理部分\n",
    "2。网络模块设置\n",
    "3。网络模型保存与测试\n",
    "'''"
   ]
  },
  {
   "cell_type": "code",
   "execution_count": 2,
   "id": "05a34f47-b230-4dfd-9f68-25d8aa074e43",
   "metadata": {},
   "outputs": [],
   "source": [
    "import os\n",
    "import matplotlib.pyplot as plt\n",
    "%matplotlib inline\n",
    "import numpy as np\n",
    "import torch\n",
    "import torch.optim as optim\n",
    "import torchvision\n",
    "from torchvision import transforms, models, datasets\n",
    "import imageio\n",
    "import time\n",
    "import warnings\n",
    "warnings.filterwarnings(\"ignore\")\n",
    "import random\n",
    "import sys\n",
    "import copy\n",
    "import json\n",
    "from PIL import Image\n",
    "\n",
    "data_dir = './flower_data/'\n",
    "train_dir = data_dir +'/train'\n",
    "valid_dir = data_dir + '/vaid'"
   ]
  },
  {
   "cell_type": "code",
   "execution_count": 5,
   "id": "55ddc567-1e4a-417d-ae7a-17235a409157",
   "metadata": {},
   "outputs": [],
   "source": [
    "'''\n",
    "1.1制作好数据源\n",
    " - data_transforms中指定了所有图像预处理操作\n",
    " - ImageFolder假设所有文件都按文件夹保存好，每个文件夹下面存储同一类别的图片，文件夹的名字就是分类的名字\n",
    "'''\n",
    "data_transforms = {\n",
    "    'train': \n",
    "        transforms.Compose([\n",
    "            transforms.Resize([96,96]), #将data中的图片数据大小统一:正方形\n",
    "            transforms.RandomRotation(45), #数据增强data augmentation：增加模型数据和多样性，随机旋转，-45到45度之间随机选,将同一张图片旋转，可以得到不同角度的图片，从而使数据量增加\n",
    "            transforms.CenterCrop(64), #数据增强data augmentation：增加模型数据和多样性，从中心开始裁剪 -> 64 * 64是实际数据进行训练的输入大小\n",
    "            transforms.RandomHorizontalFlip(p=0.5), #随机水平翻转， 选择一个概率\n",
    "            transforms.RandomVerticalFlip(p=0.5), #\n",
    "            transforms.ColorJitter(brightness=0.2, contrast=0.1, saturation=0.1, hue=0.1),\n",
    "            transforms.RandomGrayscale(p=0.025),\n",
    "            transforms.ToTensor(),\n",
    "            transforms.Normalize([0.485, 0.456, 0.406],[0.229, 0.224,0.225]),\n",
    "        ]),\n",
    "    'valid':\n",
    "        transforms.Compose([\n",
    "            transforms.Resize([64,64]),\n",
    "            transforms.ToTensor(),\n",
    "            transforms.Normalize([0.485, 0.456, 0.406],[0.229, 0.224,0.225]),\n",
    "        ])\n",
    "}"
   ]
  },
  {
   "cell_type": "code",
   "execution_count": null,
   "id": "f0d6f9da-43fe-4a9f-8dc8-d5fe3665e351",
   "metadata": {},
   "outputs": [],
   "source": []
  }
 ],
 "metadata": {
  "kernelspec": {
   "display_name": "Python 3 (ipykernel)",
   "language": "python",
   "name": "python3"
  },
  "language_info": {
   "codemirror_mode": {
    "name": "ipython",
    "version": 3
   },
   "file_extension": ".py",
   "mimetype": "text/x-python",
   "name": "python",
   "nbconvert_exporter": "python",
   "pygments_lexer": "ipython3",
   "version": "3.9.19"
  }
 },
 "nbformat": 4,
 "nbformat_minor": 5
}
